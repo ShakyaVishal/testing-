{
 "cells": [
  {
   "cell_type": "code",
   "execution_count": 1,
   "metadata": {},
   "outputs": [],
   "source": [
    "import pandas as pd\n",
    "import io\n",
    "import requests"
   ]
  },
  {
   "cell_type": "code",
   "execution_count": 17,
   "metadata": {},
   "outputs": [],
   "source": [
    "csvlink='https://www.datatrained.com/hackathon-submissions/solution_file1592115617.csv'\n",
    "\n",
    "s = requests.get(csvlink).content\n",
    "ds = pd.read_csv(io.StringIO(s.decode('utf-8')))\n",
    "\n"
   ]
  },
  {
   "cell_type": "code",
   "execution_count": 2,
   "metadata": {},
   "outputs": [
    {
     "data": {
      "text/html": [
       "<div>\n",
       "<style scoped>\n",
       "    .dataframe tbody tr th:only-of-type {\n",
       "        vertical-align: middle;\n",
       "    }\n",
       "\n",
       "    .dataframe tbody tr th {\n",
       "        vertical-align: top;\n",
       "    }\n",
       "\n",
       "    .dataframe thead th {\n",
       "        text-align: right;\n",
       "    }\n",
       "</style>\n",
       "<table border=\"1\" class=\"dataframe\">\n",
       "  <thead>\n",
       "    <tr style=\"text-align: right;\">\n",
       "      <th></th>\n",
       "      <th>Unnamed: 0</th>\n",
       "      <th>Economy</th>\n",
       "      <th>ADB Country Code</th>\n",
       "      <th>Sector</th>\n",
       "      <th>Country 2018 GDP</th>\n",
       "      <th>Scenario</th>\n",
       "      <th>as % of total GDP</th>\n",
       "      <th>in $ Mn</th>\n",
       "      <th>as % of sector GDP</th>\n",
       "      <th>as % of sector employment</th>\n",
       "      <th>Employment (in 000)</th>\n",
       "    </tr>\n",
       "  </thead>\n",
       "  <tbody>\n",
       "    <tr>\n",
       "      <th>0</th>\n",
       "      <td>0</td>\n",
       "      <td>Italy</td>\n",
       "      <td>ITA</td>\n",
       "      <td>_All</td>\n",
       "      <td>2.083864e+06</td>\n",
       "      <td>Additional impact under Longer containment, la...</td>\n",
       "      <td>na</td>\n",
       "      <td>na</td>\n",
       "      <td>na</td>\n",
       "      <td>na</td>\n",
       "      <td>NaN</td>\n",
       "    </tr>\n",
       "    <tr>\n",
       "      <th>1</th>\n",
       "      <td>1</td>\n",
       "      <td>Republic of Korea</td>\n",
       "      <td>KOR</td>\n",
       "      <td>Light/Heavy Manufacturing, Utilities, and Cons...</td>\n",
       "      <td>1.619424e+06</td>\n",
       "      <td>Additional impact under Longer containment, la...</td>\n",
       "      <td>na</td>\n",
       "      <td>na</td>\n",
       "      <td>na</td>\n",
       "      <td>na</td>\n",
       "      <td>NaN</td>\n",
       "    </tr>\n",
       "    <tr>\n",
       "      <th>2</th>\n",
       "      <td>2</td>\n",
       "      <td>Thailand</td>\n",
       "      <td>THA</td>\n",
       "      <td>Light/Heavy Manufacturing, Utilities, and Cons...</td>\n",
       "      <td>5.049928e+05</td>\n",
       "      <td>Additional impact under Longer containment, la...</td>\n",
       "      <td>-0.83</td>\n",
       "      <td>4,196.67</td>\n",
       "      <td>-2.9</td>\n",
       "      <td>-3.06</td>\n",
       "      <td>NaN</td>\n",
       "    </tr>\n",
       "    <tr>\n",
       "      <th>3</th>\n",
       "      <td>3</td>\n",
       "      <td>Portugal</td>\n",
       "      <td>POR</td>\n",
       "      <td>Light/Heavy Manufacturing, Utilities, and Cons...</td>\n",
       "      <td>2.406745e+05</td>\n",
       "      <td>Additional impact under Shorter containment, s...</td>\n",
       "      <td>na</td>\n",
       "      <td>na</td>\n",
       "      <td>na</td>\n",
       "      <td>na</td>\n",
       "      <td>NaN</td>\n",
       "    </tr>\n",
       "    <tr>\n",
       "      <th>4</th>\n",
       "      <td>4</td>\n",
       "      <td>Australia</td>\n",
       "      <td>AUS</td>\n",
       "      <td>Hotel and restaurants and Other Personal Services</td>\n",
       "      <td>1.433904e+06</td>\n",
       "      <td>Additional impact under Longer containment, la...</td>\n",
       "      <td>na</td>\n",
       "      <td>na</td>\n",
       "      <td>na</td>\n",
       "      <td>na</td>\n",
       "      <td>NaN</td>\n",
       "    </tr>\n",
       "  </tbody>\n",
       "</table>\n",
       "</div>"
      ],
      "text/plain": [
       "   Unnamed: 0            Economy ADB Country Code  \\\n",
       "0           0              Italy              ITA   \n",
       "1           1  Republic of Korea              KOR   \n",
       "2           2           Thailand              THA   \n",
       "3           3           Portugal              POR   \n",
       "4           4          Australia              AUS   \n",
       "\n",
       "                                              Sector  Country 2018 GDP  \\\n",
       "0                                               _All      2.083864e+06   \n",
       "1  Light/Heavy Manufacturing, Utilities, and Cons...      1.619424e+06   \n",
       "2  Light/Heavy Manufacturing, Utilities, and Cons...      5.049928e+05   \n",
       "3  Light/Heavy Manufacturing, Utilities, and Cons...      2.406745e+05   \n",
       "4  Hotel and restaurants and Other Personal Services      1.433904e+06   \n",
       "\n",
       "                                            Scenario as % of total GDP  \\\n",
       "0  Additional impact under Longer containment, la...                na   \n",
       "1  Additional impact under Longer containment, la...                na   \n",
       "2  Additional impact under Longer containment, la...             -0.83   \n",
       "3  Additional impact under Shorter containment, s...                na   \n",
       "4  Additional impact under Longer containment, la...                na   \n",
       "\n",
       "   in $ Mn  as % of sector GDP as % of sector employment  Employment (in 000)  \n",
       "0       na                  na                        na                  NaN  \n",
       "1       na                  na                        na                  NaN  \n",
       "2  4,196.67               -2.9                     -3.06                  NaN  \n",
       "3       na                  na                        na                  NaN  \n",
       "4       na                  na                        na                  NaN  "
      ]
     },
     "execution_count": 2,
     "metadata": {},
     "output_type": "execute_result"
    }
   ],
   "source": [
    "df=pd.read_csv(\"test_file.csv\")\n",
    "df.head()"
   ]
  },
  {
   "cell_type": "code",
   "execution_count": 53,
   "metadata": {},
   "outputs": [
    {
     "data": {
      "text/html": [
       "<div>\n",
       "<style scoped>\n",
       "    .dataframe tbody tr th:only-of-type {\n",
       "        vertical-align: middle;\n",
       "    }\n",
       "\n",
       "    .dataframe tbody tr th {\n",
       "        vertical-align: top;\n",
       "    }\n",
       "\n",
       "    .dataframe thead th {\n",
       "        text-align: right;\n",
       "    }\n",
       "</style>\n",
       "<table border=\"1\" class=\"dataframe\">\n",
       "  <thead>\n",
       "    <tr style=\"text-align: right;\">\n",
       "      <th></th>\n",
       "      <th>predictions</th>\n",
       "    </tr>\n",
       "  </thead>\n",
       "  <tbody>\n",
       "    <tr>\n",
       "      <th>0</th>\n",
       "      <td>1</td>\n",
       "    </tr>\n",
       "    <tr>\n",
       "      <th>1</th>\n",
       "      <td>1</td>\n",
       "    </tr>\n",
       "    <tr>\n",
       "      <th>2</th>\n",
       "      <td>1</td>\n",
       "    </tr>\n",
       "    <tr>\n",
       "      <th>3</th>\n",
       "      <td>0</td>\n",
       "    </tr>\n",
       "    <tr>\n",
       "      <th>4</th>\n",
       "      <td>1</td>\n",
       "    </tr>\n",
       "    <tr>\n",
       "      <th>...</th>\n",
       "      <td>...</td>\n",
       "    </tr>\n",
       "    <tr>\n",
       "      <th>752</th>\n",
       "      <td>1</td>\n",
       "    </tr>\n",
       "    <tr>\n",
       "      <th>753</th>\n",
       "      <td>1</td>\n",
       "    </tr>\n",
       "    <tr>\n",
       "      <th>754</th>\n",
       "      <td>0</td>\n",
       "    </tr>\n",
       "    <tr>\n",
       "      <th>755</th>\n",
       "      <td>1</td>\n",
       "    </tr>\n",
       "    <tr>\n",
       "      <th>756</th>\n",
       "      <td>1</td>\n",
       "    </tr>\n",
       "  </tbody>\n",
       "</table>\n",
       "<p>757 rows × 1 columns</p>\n",
       "</div>"
      ],
      "text/plain": [
       "     predictions\n",
       "0              1\n",
       "1              1\n",
       "2              1\n",
       "3              0\n",
       "4              1\n",
       "..           ...\n",
       "752            1\n",
       "753            1\n",
       "754            0\n",
       "755            1\n",
       "756            1\n",
       "\n",
       "[757 rows x 1 columns]"
      ]
     },
     "execution_count": 53,
     "metadata": {},
     "output_type": "execute_result"
    }
   ],
   "source": [
    "ds"
   ]
  },
  {
   "cell_type": "code",
   "execution_count": 4,
   "metadata": {},
   "outputs": [
    {
     "data": {
      "text/plain": [
       "(314,)"
      ]
     },
     "execution_count": 4,
     "metadata": {},
     "output_type": "execute_result"
    }
   ],
   "source": [
    "z=df.iloc[:,-1]\n",
    "\n",
    "z.shape"
   ]
  },
  {
   "cell_type": "code",
   "execution_count": 60,
   "metadata": {},
   "outputs": [],
   "source": [
    "ypred=ds.iloc[0:29,:]"
   ]
  },
  {
   "cell_type": "code",
   "execution_count": 63,
   "metadata": {},
   "outputs": [
    {
     "name": "stdout",
     "output_type": "stream",
     "text": [
      "False\n"
     ]
    }
   ],
   "source": [
    "if ypred.shape!=ytrue.shape:\n",
    "    if ypred.shape>ytrue.shape:\n",
    "        print(\"diff =\",ypred.shape-ytrue.shape)\n",
    "    else:\n",
    "        print(\"diff =\",ytrue.shape-ypred.shape)\n",
    "else:\n",
    "    print(\"False\")\n",
    "    "
   ]
  },
  {
   "cell_type": "code",
   "execution_count": 62,
   "metadata": {},
   "outputs": [
    {
     "data": {
      "text/plain": [
       "(29, 1)"
      ]
     },
     "execution_count": 62,
     "metadata": {},
     "output_type": "execute_result"
    }
   ],
   "source": [
    "ytrue=pd.read_csv(r\"C:\\Users\\Vishal\\Desktop\\Ytrue.csv\")\n",
    "\n",
    "ytrue.shape"
   ]
  },
  {
   "cell_type": "code",
   "execution_count": 41,
   "metadata": {},
   "outputs": [],
   "source": [
    "from sklearn.metrics import log_loss"
   ]
  },
  {
   "cell_type": "code",
   "execution_count": 42,
   "metadata": {},
   "outputs": [],
   "source": [
    "loss= log_loss(ypred,ytrue)"
   ]
  },
  {
   "cell_type": "code",
   "execution_count": 43,
   "metadata": {},
   "outputs": [
    {
     "data": {
      "text/plain": [
       "19.05604206562593"
      ]
     },
     "execution_count": 43,
     "metadata": {},
     "output_type": "execute_result"
    }
   ],
   "source": [
    "loss"
   ]
  },
  {
   "cell_type": "code",
   "execution_count": null,
   "metadata": {},
   "outputs": [],
   "source": []
  }
 ],
 "metadata": {
  "kernelspec": {
   "display_name": "Python 3",
   "language": "python",
   "name": "python3"
  },
  "language_info": {
   "codemirror_mode": {
    "name": "ipython",
    "version": 3
   },
   "file_extension": ".py",
   "mimetype": "text/x-python",
   "name": "python",
   "nbconvert_exporter": "python",
   "pygments_lexer": "ipython3",
   "version": "3.7.6"
  }
 },
 "nbformat": 4,
 "nbformat_minor": 4
}
